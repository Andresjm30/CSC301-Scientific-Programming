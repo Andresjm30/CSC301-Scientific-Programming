{
 "cells": [
  {
   "cell_type": "code",
   "execution_count": 6,
   "id": "covered-riding",
   "metadata": {},
   "outputs": [
    {
     "name": "stdout",
     "output_type": "stream",
     "text": [
      "Exact Value = -1.426024756346262\n",
      "Composite Simpsons Rule\n",
      "_____________________________________________________________________________________________________________\n",
      "N =2\n",
      "Approximate Value: -14.397555334626082   Absolute Error: -12.97153057827982   Relative Error: -9.096287087971229\n",
      "_____________________________________________________________________________________________________________\n",
      "N =4\n",
      "Approximate Value: -1.1516061411642142   Absolute Error: 0.2744186151820478   Relative Error: -0.1924360807628325\n",
      "_____________________________________________________________________________________________________________\n",
      "N =8\n",
      "Approximate Value: -1.2994404371320383   Absolute Error: 0.12658431921422375   Relative Error: -0.08876726624196629\n",
      "_____________________________________________________________________________________________________________\n",
      "N =16\n",
      "Approximate Value: -1.4163642887173493   Absolute Error: 0.009660467628912706   Relative Error: -0.006774403870564352\n",
      "_____________________________________________________________________________________________________________\n",
      "N =32\n",
      "Approximate Value: -1.4254049207358284   Absolute Error: 0.0006198356104336611   Relative Error: -0.00043465978250040627\n",
      "_____________________________________________________________________________________________________________\n",
      "N =64\n",
      "Approximate Value: -1.4259858347573484   Absolute Error: 3.892158891360964e-05   Relative Error: -2.7293768036211318e-05\n",
      "_____________________________________________________________________________________________________________\n",
      "N =128\n",
      "Approximate Value: -1.4260223211951317   Absolute Error: 2.435151130297797e-06   Relative Error: -1.7076499685300713e-06\n",
      "_____________________________________________________________________________________________________________\n",
      "N =256\n",
      "Approximate Value: -1.4260246041105815   Absolute Error: 1.52235680506152e-07   Relative Error: -1.0675528585927768e-07\n",
      "_____________________________________________________________________________________________________________\n",
      "N =512\n",
      "Approximate Value: -1.4260247468309295   Absolute Error: 9.515332521914388e-09   Relative Error: -6.672627862572612e-09\n"
     ]
    }
   ],
   "source": [
    "import math\n",
    "from math import sin\n",
    "import scipy.integrate\n",
    "\n",
    "y = lambda x: ((100 / x**2) * sin(10 / x))\n",
    "exact = scipy.integrate.quad(y, 1, 3)\n",
    "print(\"Exact Value = \" + str(exact[0]))\n",
    "\n",
    "\n",
    "def f(x):\n",
    "    return ((100 / x**2) * sin(10 / x))\n",
    "\n",
    "def simpsons_rule(a,b):\n",
    "    c = (a+b) / 2.0\n",
    "    h3 = abs(b-a) / 6.0\n",
    "    return h3*(f(a) + 4.0*f(c) + f(b))\n",
    "\n",
    "def composite_simpsons(a, b, n):\n",
    "    step = (b - a) / n\n",
    "\n",
    "    current = a\n",
    "    rs = 0\n",
    "    while (current < b):\n",
    "        rs += simpsons_rule(current, current + step)\n",
    "        current += step\n",
    "    return rs\n",
    "\n",
    "def absoluteError(approx, exact):\n",
    "    return approx - exact\n",
    "\n",
    "def relativeError(approx, exact):\n",
    "    return (abs(approx - exact))/exact\n",
    "\n",
    "def run_CompSimp():\n",
    "    N = [2, 4, 8, 16, 32, 64, 128, 256, 512]\n",
    "    print(\"Composite Simpsons Rule\")\n",
    "    for x in N:\n",
    "        ExampleSimp = composite_simpsons(1, 3, x)\n",
    "        AbsError = absoluteError(ExampleSimp, exact[0])\n",
    "        RelError = relativeError(ExampleSimp, exact[0])\n",
    "        print(\"_____________________________________________________________________________________________________________\")\n",
    "        print(\"N =\" + str(x))\n",
    "        print(\"Approximate Value: \" + str(ExampleSimp), \"  Absolute Error: \" + str(AbsError), \"  Relative Error: \" + str(RelError))\n",
    "\n",
    "run_CompSimp();"
   ]
  },
  {
   "cell_type": "markdown",
   "id": "hungarian-bryan",
   "metadata": {},
   "source": [
    "Composite Simpsons Rule\n",
    "- As you can see the results above I had to divide subintervals many times to stick within the 10^(-8) error bound. \n",
    "- The Composite Simpson Rule is not as accurate to the adaptive simpson rule. \n",
    "- I have used the value of n by incrementing by the power of 2. It took to the 2^9 to be in the error bounds of 10^(-8) "
   ]
  },
  {
   "cell_type": "code",
   "execution_count": 7,
   "id": "collaborative-sauce",
   "metadata": {},
   "outputs": [
    {
     "name": "stdout",
     "output_type": "stream",
     "text": [
      "Adaptive Simpsons Rule:\n",
      "_____________________________________________________________________________________________________________\n",
      "Error Tolerance = 0.1\n",
      "Approximate Value: -1.3049089485541323   Absolute Error: 0.12111580779212971   Relative Error: -0.08493247207183886\n",
      "_____________________________________________________________________________________________________________\n",
      "Error Tolerance = 0.01\n",
      "Approximate Value: -1.4283782505502227   Absolute Error: -0.002353494203960693   Relative Error: -0.0016503880409417145\n",
      "_____________________________________________________________________________________________________________\n",
      "Error Tolerance = 0.0001\n",
      "Approximate Value: -1.4260246884442598   Absolute Error: 6.790200224315868e-08   Relative Error: -4.7616285720828654e-08\n",
      "_____________________________________________________________________________________________________________\n",
      "Error Tolerance = 1e-08\n",
      "Approximate Value: -1.4260247563462123   Absolute Error: 4.973799150320701e-14   Relative Error: -3.487877141112536e-14\n"
     ]
    }
   ],
   "source": [
    "def recursive_asr(a,b,err,whole):\n",
    "    c = (a+b) / 2.0\n",
    "    left = simpsons_rule(a,c)\n",
    "    right = simpsons_rule(c,b)\n",
    "    if abs(left + right - whole) <= 15*err:\n",
    "        return left + right + (left + right - whole)/15.0\n",
    "    return recursive_asr(a,c,err/2.0,left) + recursive_asr(c,b,err/2.0,right)\n",
    "\n",
    "def adaptive_simpsons_rule(a,b,err):\n",
    "    return recursive_asr(a,b,err,simpsons_rule(a,b))\n",
    "\n",
    "def run_AdapSimp():\n",
    "    Error = [10**(-1), 10**(-2), 10**(-4), 10**(-8)]\n",
    "    print(\"Adaptive Simpsons Rule:\")\n",
    "    for x in Error:\n",
    "        ExampleAdap = adaptive_simpsons_rule(1, 3, x)\n",
    "        AbsError = absoluteError(ExampleAdap, exact[0])\n",
    "        RelError = relativeError(ExampleAdap, exact[0])\n",
    "        print(\"_____________________________________________________________________________________________________________\")\n",
    "        print(\"Error Tolerance = \" + str(x))\n",
    "        print(\"Approximate Value: \" + str(ExampleAdap), \"  Absolute Error: \" + str(AbsError), \"  Relative Error: \" + str(RelError))\n",
    "\n",
    "run_AdapSimp();"
   ]
  },
  {
   "cell_type": "markdown",
   "id": "occupational-publication",
   "metadata": {},
   "source": [
    "Adaptive Simpsons Rule\n",
    "- The adaptive simpson rule appears to be more accurate than the compsite simpson rule. Because it did not take many calls to achieve our goal.\n",
    "- The error tolerance only took about 0.0001 to achieve the required error bounds. \n",
    "- The error is far less than the one for compsite rule. We have to use recursion to get our results in the adaptive Simpsons Rule."
   ]
  }
 ],
 "metadata": {
  "kernelspec": {
   "display_name": "Python 3",
   "language": "python",
   "name": "python3"
  },
  "language_info": {
   "codemirror_mode": {
    "name": "ipython",
    "version": 3
   },
   "file_extension": ".py",
   "mimetype": "text/x-python",
   "name": "python",
   "nbconvert_exporter": "python",
   "pygments_lexer": "ipython3",
   "version": "3.9.0"
  }
 },
 "nbformat": 4,
 "nbformat_minor": 5
}
